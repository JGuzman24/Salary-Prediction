{
 "cells": [
  {
   "cell_type": "markdown",
   "id": "d6c443b8",
   "metadata": {},
   "source": [
    "# Salary Predictor"
   ]
  },
  {
   "cell_type": "markdown",
   "id": "57ebb999",
   "metadata": {},
   "source": [
    "### Requirements"
   ]
  },
  {
   "cell_type": "code",
   "execution_count": 1,
   "id": "57296570",
   "metadata": {},
   "outputs": [],
   "source": [
    "import pandas as pd\n",
    "import numpy as np\n",
    "import matplotlib.pyplot as plt\n",
    "import seaborn as sns\n",
    "import ipywidgets as widgets\n",
    "import babel.numbers\n",
    "from sklearn.model_selection import train_test_split\n",
    "from sklearn.linear_model import LinearRegression\n",
    "from sklearn import metrics\n",
    "\n",
    "%matplotlib inline"
   ]
  },
  {
   "cell_type": "markdown",
   "id": "ff8fa655",
   "metadata": {},
   "source": [
    "### Global Variables"
   ]
  },
  {
   "cell_type": "code",
   "execution_count": 2,
   "id": "deadba53",
   "metadata": {},
   "outputs": [],
   "source": [
    "degree = [\"Bachelor's Degree\", \"Master's Degree\", 'PhD']\n",
    "select  = pd.DataFrame()\n",
    "final = pd.DataFrame()\n",
    "x = 0\n",
    "y = 0\n",
    "lm = LinearRegression()\n",
    "exp = 0\n",
    "x_train=[]\n",
    "x_test=[]\n",
    "y_train=[]\n",
    "y_test=[]\n",
    "predictions=[]\n",
    "Experience=0\n"
   ]
  },
  {
   "cell_type": "markdown",
   "id": "91a41cf0",
   "metadata": {},
   "source": [
    "### Functions"
   ]
  },
  {
   "cell_type": "code",
   "execution_count": 3,
   "id": "8e69eec9",
   "metadata": {},
   "outputs": [],
   "source": [
    "def getJob(Job):\n",
    "    global select \n",
    "    select = full[full['Job']==Job].copy()\n",
    "    select.drop('jobInt', axis=1, inplace=True)\n",
    "    widgets.interact(getEdu, Degree=degree)\n",
    "    \n",
    "    \n",
    "def getEdu(Degree):\n",
    "    global final\n",
    "    global deg\n",
    "    if Degree == \"Bachelor's Degree\":\n",
    "        deg = 1\n",
    "    elif Degree == \"Master's Degree\":\n",
    "        deg = 2\n",
    "    elif Degree == \"PhD\":\n",
    "        deg = 3\n",
    "        \n",
    "    final = select[select['eduInt']==deg].copy()\n",
    "    final.drop('eduInt', axis=1, inplace=True) \n",
    "    \n",
    "def getExp(Experience=0):\n",
    "    inn = [Experience]\n",
    "    ina = np.array(inn)\n",
    "    sal = lm.predict(ina.reshape(1,-1))\n",
    "    avgE = metrics.mean_absolute_error(y_test, predictions)\n",
    "    low = sal[0] - (avgE /2)\n",
    "    high = sal[0] + (avgE/2)\n",
    "    \n",
    "    print('Expected Salary: ' + babel.numbers.format_currency(sal[0], 'USD', locale='en_US'))\n",
    "    print('Average error: ' + babel.numbers.format_currency(avgE, 'USD', locale='en_US'))\n",
    "    print()\n",
    "\n",
    "    print('Approved Salary Range: ' + \n",
    "          babel.numbers.format_currency(low, 'USD', locale='en_US') + ' - ' + \n",
    "          babel.numbers.format_currency(high, 'USD', locale='en_US'))\n",
    "    \n",
    "    \n",
    "\n",
    "def runModel():\n",
    "    global final\n",
    "    global y\n",
    "    global x\n",
    "    global lm\n",
    "    global predictions\n",
    "    global x_train\n",
    "    global x_test\n",
    "    global y_train\n",
    "    global y_test\n",
    "    \n",
    "    y = final['Salary']\n",
    "    x = final[['Experience']]\n",
    "    \n",
    "    x_train, x_test, y_train, y_test = train_test_split(x.values,y, test_size = 0.3, random_state=101)\n",
    "\n",
    "    lm.fit(x_train, y_train)\n",
    "    predictions = lm.predict(x_test)\n",
    "    \n",
    "ss = widgets.Checkbox(value=False, description='Refresh Plots')\n",
    "    \n",
    "def calculateSalary(plot=False):\n",
    "    widgets.interact(getJob, Job=jobs)\n",
    "    display(calculate,output)\n",
    "    calculate.on_click(on_button_clicked)\n",
    "    widgets.interact(showPlots, plots=ss)\n",
    "    \n",
    "\n",
    "\n",
    "def showPlots(plots=False):\n",
    "    if plots:\n",
    "        sns.lmplot(x='Experience',y='Salary',data=final)\n",
    "        sns.pairplot(final)\n",
    "        sns.jointplot(x='Experience',y='Salary', data=final, kind='hex')\n"
   ]
  },
  {
   "cell_type": "markdown",
   "id": "a072b1fd",
   "metadata": {},
   "source": [
    "#### Calculation Button"
   ]
  },
  {
   "cell_type": "code",
   "execution_count": 4,
   "id": "689399e3",
   "metadata": {},
   "outputs": [],
   "source": [
    "calculate = widgets.Button(description = \"Calculate\")\n",
    "output = widgets.Output()\n",
    "\n",
    "def on_button_clicked(b):\n",
    "  with output:\n",
    "    output.clear_output()\n",
    "    runModel()\n",
    "    widgets.interact(getExp, Experience=(0,20))\n",
    "    \n",
    "\n"
   ]
  },
  {
   "cell_type": "markdown",
   "id": "89c2e7c4",
   "metadata": {},
   "source": [
    "## Creating Dataframe"
   ]
  },
  {
   "cell_type": "code",
   "execution_count": 5,
   "id": "ffc6ac68",
   "metadata": {
    "scrolled": false
   },
   "outputs": [
    {
     "data": {
      "text/html": [
       "<div>\n",
       "<style scoped>\n",
       "    .dataframe tbody tr th:only-of-type {\n",
       "        vertical-align: middle;\n",
       "    }\n",
       "\n",
       "    .dataframe tbody tr th {\n",
       "        vertical-align: top;\n",
       "    }\n",
       "\n",
       "    .dataframe thead th {\n",
       "        text-align: right;\n",
       "    }\n",
       "</style>\n",
       "<table border=\"1\" class=\"dataframe\">\n",
       "  <thead>\n",
       "    <tr style=\"text-align: right;\">\n",
       "      <th></th>\n",
       "      <th>Job</th>\n",
       "      <th>jobInt</th>\n",
       "      <th>location</th>\n",
       "      <th>Experience</th>\n",
       "      <th>Salary</th>\n",
       "      <th>Degree</th>\n",
       "      <th>eduInt</th>\n",
       "    </tr>\n",
       "  </thead>\n",
       "  <tbody>\n",
       "    <tr>\n",
       "      <th>355</th>\n",
       "      <td>Business Analyst</td>\n",
       "      <td>9</td>\n",
       "      <td>Bellevue, WA</td>\n",
       "      <td>6</td>\n",
       "      <td>90000</td>\n",
       "      <td>Some College</td>\n",
       "      <td>0</td>\n",
       "    </tr>\n",
       "    <tr>\n",
       "      <th>356</th>\n",
       "      <td>Business Analyst</td>\n",
       "      <td>9</td>\n",
       "      <td>San Jose, CA</td>\n",
       "      <td>10</td>\n",
       "      <td>80000</td>\n",
       "      <td>Some College</td>\n",
       "      <td>0</td>\n",
       "    </tr>\n",
       "    <tr>\n",
       "      <th>357</th>\n",
       "      <td>Business Analyst</td>\n",
       "      <td>9</td>\n",
       "      <td>San Antonio, TX</td>\n",
       "      <td>12</td>\n",
       "      <td>74000</td>\n",
       "      <td>Some College</td>\n",
       "      <td>0</td>\n",
       "    </tr>\n",
       "    <tr>\n",
       "      <th>358</th>\n",
       "      <td>Data Scientist</td>\n",
       "      <td>4</td>\n",
       "      <td>New York, NY</td>\n",
       "      <td>10</td>\n",
       "      <td>200000</td>\n",
       "      <td>Highschool</td>\n",
       "      <td>0</td>\n",
       "    </tr>\n",
       "    <tr>\n",
       "      <th>359</th>\n",
       "      <td>Data Scientist</td>\n",
       "      <td>4</td>\n",
       "      <td>Ottawa, ON, Canada</td>\n",
       "      <td>0</td>\n",
       "      <td>75000</td>\n",
       "      <td>Highschool</td>\n",
       "      <td>0</td>\n",
       "    </tr>\n",
       "    <tr>\n",
       "      <th>...</th>\n",
       "      <td>...</td>\n",
       "      <td>...</td>\n",
       "      <td>...</td>\n",
       "      <td>...</td>\n",
       "      <td>...</td>\n",
       "      <td>...</td>\n",
       "      <td>...</td>\n",
       "    </tr>\n",
       "    <tr>\n",
       "      <th>47368</th>\n",
       "      <td>Technical Program Manager</td>\n",
       "      <td>6</td>\n",
       "      <td>Chandler, AZ</td>\n",
       "      <td>8</td>\n",
       "      <td>122000</td>\n",
       "      <td>PhD</td>\n",
       "      <td>3</td>\n",
       "    </tr>\n",
       "    <tr>\n",
       "      <th>47369</th>\n",
       "      <td>Technical Program Manager</td>\n",
       "      <td>6</td>\n",
       "      <td>Cupertino, CA</td>\n",
       "      <td>6</td>\n",
       "      <td>170000</td>\n",
       "      <td>PhD</td>\n",
       "      <td>3</td>\n",
       "    </tr>\n",
       "    <tr>\n",
       "      <th>47370</th>\n",
       "      <td>Technical Program Manager</td>\n",
       "      <td>6</td>\n",
       "      <td>Seattle, WA</td>\n",
       "      <td>15</td>\n",
       "      <td>156000</td>\n",
       "      <td>PhD</td>\n",
       "      <td>3</td>\n",
       "    </tr>\n",
       "    <tr>\n",
       "      <th>47371</th>\n",
       "      <td>Technical Program Manager</td>\n",
       "      <td>6</td>\n",
       "      <td>Geneva, GE, Switzerland</td>\n",
       "      <td>16</td>\n",
       "      <td>217000</td>\n",
       "      <td>PhD</td>\n",
       "      <td>3</td>\n",
       "    </tr>\n",
       "    <tr>\n",
       "      <th>47372</th>\n",
       "      <td>Technical Program Manager</td>\n",
       "      <td>6</td>\n",
       "      <td>Santa Clara, CA</td>\n",
       "      <td>15</td>\n",
       "      <td>232000</td>\n",
       "      <td>PhD</td>\n",
       "      <td>3</td>\n",
       "    </tr>\n",
       "  </tbody>\n",
       "</table>\n",
       "<p>29504 rows × 7 columns</p>\n",
       "</div>"
      ],
      "text/plain": [
       "                             Job  jobInt                 location  Experience  \\\n",
       "355             Business Analyst       9             Bellevue, WA           6   \n",
       "356             Business Analyst       9             San Jose, CA          10   \n",
       "357             Business Analyst       9          San Antonio, TX          12   \n",
       "358               Data Scientist       4             New York, NY          10   \n",
       "359               Data Scientist       4       Ottawa, ON, Canada           0   \n",
       "...                          ...     ...                      ...         ...   \n",
       "47368  Technical Program Manager       6             Chandler, AZ           8   \n",
       "47369  Technical Program Manager       6            Cupertino, CA           6   \n",
       "47370  Technical Program Manager       6              Seattle, WA          15   \n",
       "47371  Technical Program Manager       6  Geneva, GE, Switzerland          16   \n",
       "47372  Technical Program Manager       6          Santa Clara, CA          15   \n",
       "\n",
       "       Salary        Degree  eduInt  \n",
       "355     90000  Some College       0  \n",
       "356     80000  Some College       0  \n",
       "357     74000  Some College       0  \n",
       "358    200000    Highschool       0  \n",
       "359     75000    Highschool       0  \n",
       "...       ...           ...     ...  \n",
       "47368  122000           PhD       3  \n",
       "47369  170000           PhD       3  \n",
       "47370  156000           PhD       3  \n",
       "47371  217000           PhD       3  \n",
       "47372  232000           PhD       3  \n",
       "\n",
       "[29504 rows x 7 columns]"
      ]
     },
     "execution_count": 5,
     "metadata": {},
     "output_type": "execute_result"
    }
   ],
   "source": [
    "# creates datafram from csv\n",
    "df = pd.read_csv('salarydata.csv')\n",
    "\n",
    "# renames columns\n",
    "df.rename(columns={'title': 'Job', 'basesalary': 'Salary', 'yearsofexperience': 'Experience', 'Education': 'Degree'}, \n",
    "          inplace=True)\n",
    "\n",
    "# drops null rows\n",
    "df.dropna(inplace = True)\n",
    "df"
   ]
  },
  {
   "cell_type": "code",
   "execution_count": 6,
   "id": "5a758f4b",
   "metadata": {
    "scrolled": true
   },
   "outputs": [],
   "source": [
    "# creates new dataframe with only rows in the United States\n",
    "us = df[df['location'].apply(lambda x: x.count(',')) == 1]\n",
    "\n",
    "# creates new dataframe with salaries between 40k-250k\n",
    "# and only up to 20 years of experience\n",
    "full = us[(us['Salary']>=40000) & (us['Salary']<=250000) & (us['Experience']<=20) ]\n",
    "\n",
    "\n",
    "jobs = full['Job'].unique()"
   ]
  },
  {
   "cell_type": "code",
   "execution_count": 9,
   "id": "10137c86",
   "metadata": {},
   "outputs": [
    {
     "data": {
      "text/plain": [
       "<AxesSubplot:title={'center':'Salary'}, xlabel='Experience'>"
      ]
     },
     "execution_count": 9,
     "metadata": {},
     "output_type": "execute_result"
    },
    {
     "data": {
      "image/png": "[encoded data removed]",
      "text/plain": [
       "<Figure size 1200x700 with 1 Axes>"
      ]
     },
     "metadata": {},
     "output_type": "display_data"
    }
   ],
   "source": [
    "fig, ax= plt.subplots(1,1, figsize=(12, 7))\n",
    "us.boxplot('Salary', 'Experience', ax=ax)"
   ]
  },
  {
   "cell_type": "code",
   "execution_count": 7,
   "id": "e51497ac",
   "metadata": {
    "scrolled": false
   },
   "outputs": [
    {
     "data": {
      "application/vnd.jupyter.widget-view+json": {
       "model_id": "9ad9e403c39d4eb0bf7517d0b2854219",
       "version_major": 2,
       "version_minor": 0
      },
      "text/plain": [
       "interactive(children=(Dropdown(description='Job', options=('Business Analyst', 'Data Scientist', 'Hardware Eng…"
      ]
     },
     "metadata": {},
     "output_type": "display_data"
    },
    {
     "data": {
      "application/vnd.jupyter.widget-view+json": {
       "model_id": "0e533215d6814de39c0059aa18e4f51d",
       "version_major": 2,
       "version_minor": 0
      },
      "text/plain": [
       "Button(description='Calculate', style=ButtonStyle())"
      ]
     },
     "metadata": {},
     "output_type": "display_data"
    },
    {
     "data": {
      "application/vnd.jupyter.widget-view+json": {
       "model_id": "c7853a464a6646a1851d28ea624c5e29",
       "version_major": 2,
       "version_minor": 0
      },
      "text/plain": [
       "Output()"
      ]
     },
     "metadata": {},
     "output_type": "display_data"
    },
    {
     "data": {
      "application/vnd.jupyter.widget-view+json": {
       "model_id": "82d3e958674045dab07ef4e6b7d52d4f",
       "version_major": 2,
       "version_minor": 0
      },
      "text/plain": [
       "interactive(children=(Checkbox(value=False, description='Refresh Plots'), Output()), _dom_classes=('widget-int…"
      ]
     },
     "metadata": {},
     "output_type": "display_data"
    }
   ],
   "source": [
    "calculateSalary()"
   ]
  },
  {
   "cell_type": "code",
   "execution_count": null,
   "id": "7d2d8470",
   "metadata": {},
   "outputs": [],
   "source": []
  },
  {
   "cell_type": "code",
   "execution_count": null,
   "id": "decfc7b8",
   "metadata": {},
   "outputs": [],
   "source": []
  }
 ],
 "metadata": {
  "kernelspec": {
   "display_name": "Python 3 (ipykernel)",
   "language": "python",
   "name": "python3"
  },
  "language_info": {
   "codemirror_mode": {
    "name": "ipython",
    "version": 3
   },
   "file_extension": ".py",
   "mimetype": "text/x-python",
   "name": "python",
   "nbconvert_exporter": "python",
   "pygments_lexer": "ipython3",
   "version": "3.9.13"
  }
 },
 "nbformat": 4,
 "nbformat_minor": 5
}
